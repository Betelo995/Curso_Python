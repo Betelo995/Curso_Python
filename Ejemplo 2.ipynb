{
 "cells": [
  {
   "cell_type": "markdown",
   "metadata": {},
   "source": [
    "# Ejemplo 2\n",
    "## Taller Python TCU- Tropicalización de la Tecnología\n",
    "\n",
    "### Isaac Rojas Hernández\n",
    "### B76693\n",
    "\n",
    "#### Calculadora avanzada\n"
   ]
  },
  {
   "cell_type": "markdown",
   "metadata": {},
   "source": [
    "##### Pimero se genera una estructura básica de un ciclo para comenzar con la calculadora\n"
   ]
  },
  {
   "cell_type": "code",
   "execution_count": 2,
   "metadata": {},
   "outputs": [
    {
     "name": "stdout",
     "output_type": "stream",
     "text": [
      "Hola mundo\n"
     ]
    }
   ],
   "source": [
    "import math as mt\n",
    "n = False\n",
    "\n",
    "while (n == False):\n",
    "    print(\"Hola mundo\")\n",
    "    n = True\n",
    "    \n"
   ]
  },
  {
   "cell_type": "markdown",
   "metadata": {},
   "source": [
    "##### Una vez tenemos el ciclo definido vamos a generar un menú dentro del ciclo que cuente con las opciones de cada una de las operaciones"
   ]
  },
  {
   "cell_type": "code",
   "execution_count": null,
   "metadata": {},
   "outputs": [],
   "source": [
    "import math as mt\n",
    "n = False\n",
    "while (n == False):\n",
    "    print(10*\"*\")\n",
    "    print(\"Bienvenido a la Calculadora Avanzada de Python\")\n",
    "    print(\"1) Raíz cuadrada\")\n",
    "    print(\"2) Seno de un ángulo\")\n",
    "    print(\"3) Coseno de un ángulo \")\n",
    "    print(\"4) Suma\")\n",
    "    print(\"5) Resta\")\n",
    "    print(\"6) Multiplicación\")\n",
    "    print(\"7) División\")\n",
    "    print(\"8) Potencia\")\n",
    "    print(\"9) Logaritmo\")\n",
    "    print(\"10) Salir\")\n",
    "    print(10*\"*\")\n",
    "    try:\n",
    "        op = int(input(\"Digite el número de una de las operaciones disponibles: \"))\n",
    "    except: \n",
    "        print(\"No ingresó una opción válida entero\")"
   ]
  },
  {
   "cell_type": "markdown",
   "metadata": {},
   "source": [
    "##### Ahora se debe crear la parte del código que interpreta la opción ingresada y ejecuta acorde a lo que se solicitó:"
   ]
  },
  {
   "cell_type": "code",
   "execution_count": null,
   "metadata": {},
   "outputs": [],
   "source": [
    "import math as mt\n",
    "n = False\n",
    "while (n == False):\n",
    "    print(10*\"*\")\n",
    "    print(\"Bienvenido a la Calculadora Avanzada de Python\")\n",
    "    print(\"1) Raíz cuadrada\")\n",
    "    print(\"2) Seno de un ángulo\")\n",
    "    print(\"3) Coseno de un ángulo \")\n",
    "    print(\"4) Suma\")\n",
    "    print(\"5) Resta\")\n",
    "    print(\"6) Multiplicación\")\n",
    "    print(\"7) División\")\n",
    "    print(\"8) Potencia\")\n",
    "    print(\"9) Logaritmo\")\n",
    "    print(\"10) Salir\")\n",
    "    print(10*\"*\")\n",
    "    try:\n",
    "        op = int(input(\"Digite el número de una de las operaciones disponibles: \"))\n",
    "    except: \n",
    "        print(\"No ingresó una opción válida\")\n",
    "        \n",
    "    if op == 1: \n",
    "        num = float(input(\"Ingrese el número para sacar su raíz cuadrada:\"))\n",
    "        ans = mt.sqrt(num)\n",
    "        print(\"La raíz cuadrada de %.4f es = %.4f\" %(num, ans))\n",
    "        \n",
    "    elif op == 2:\n",
    "        num = float(input(\"El ángulo en grados: \"))\n",
    "        rad = num*(mt.pi/180)\n",
    "        sin = mt.sin(rad)\n",
    "        print(\"El sin de %.4f es = %.4f\" %(num, sin))\n",
    "        \n",
    "    elif op == 3:\n",
    "        num = float(input(\"El ángulo en grados: \"))\n",
    "        rad = num*(mt.pi/180)\n",
    "        cos = mt.cos(rad)\n",
    "        print(\"El cos de %.4f es = %.4f\" %(num, cos))\n",
    "        \n",
    "    elif op == 4:\n",
    "        num1 = float(input(\"Ingrese el primer número para realizar la suma: \"))\n",
    "        num2 = float(input(\"Ingrese el segundo número para realizar la suma: \"))\n",
    "        suma = num1 + num2\n",
    "        print(\"La suma de %.4f + %.4f es = %.4f\" %(num1, num2, suma))\n",
    "        \n",
    "    elif op == 5:\n",
    "        num1 = float(input(\"Ingrese el minuendo: \"))\n",
    "        num2 = float(input(\"Ingrese el sustraendo\"))\n",
    "        resta = num1 - num2\n",
    "        print(\"La resta de %.4f - %.4f es = %.4f\" %(num1, num2, resta))\n",
    "        \n",
    "    elif op == 6:\n",
    "        num1 = float(input(\"Ingrese el primer número para realizar la multiplicación: \"))\n",
    "        num2 = float(input(\"Ingrese el segundo número para realizar la multiplicación: \"))\n",
    "        multi = num1*num2\n",
    "        print(\"La multiplicación de %.4f * %.4f es = %.4f\" %(num1, num2, multi))\n",
    "        \n",
    "    elif op == 7:\n",
    "        num1 = float(input(\"Ingrese el dividendo: \"))\n",
    "        num2 = float(input(\"Ingrese el divisor: \"))\n",
    "        if num2 != 0:\n",
    "            divis = num1/num2\n",
    "            print(\"La división de %.4f / %.4f es = %.4f\" %(num1, num2, divis))\n",
    "        else: \n",
    "            print(\"Error, no se pueded realizar una división entre 0\")\n",
    "            \n",
    "    elif op == 8:\n",
    "        num1 = float(input(\"Ingrese la base: \"))\n",
    "        num2 = float(input(\"Ingrese el exponente: \"))\n",
    "        pot = mt.pow(num1, num2)\n",
    "        print(\"%.4f elevado a la %.4f es = %.4f \" %(num1, num2, pot))\n",
    "    elif op == 9:\n",
    "        num1 = float(input(\"Ingrese el numero a evaluar en el logaritmo: \"))\n",
    "        num2 = int(input(\"Ingrese la base del logaritmo \"))\n",
    "        loga = (mt.log10(num1))/(mt.log10(num2))\n",
    "        print(\"El logaritmo en base %.4f de %.4f es = %.4f \" %(num2, num1, loga))\n",
    "        \n",
    "    elif op == 10:\n",
    "        n = True\n",
    "    else:\n",
    "        print(\"No ingresó una opción válida\")\n",
    "        \n",
    "        "
   ]
  },
  {
   "cell_type": "markdown",
   "metadata": {},
   "source": [
    "$\\textbf{Con esto pudimos crear una calculadora avanzada de forma simple en python con todo lo aprendido hasta ahora en el taller :)}$"
   ]
  }
 ],
 "metadata": {
  "kernelspec": {
   "display_name": "Python 3",
   "language": "python",
   "name": "python3"
  },
  "language_info": {
   "codemirror_mode": {
    "name": "ipython",
    "version": 3
   },
   "file_extension": ".py",
   "mimetype": "text/x-python",
   "name": "python",
   "nbconvert_exporter": "python",
   "pygments_lexer": "ipython3",
   "version": "3.8.3"
  }
 },
 "nbformat": 4,
 "nbformat_minor": 4
}
