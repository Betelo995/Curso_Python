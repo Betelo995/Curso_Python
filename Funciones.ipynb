{
 "cells": [
  {
   "cell_type": "markdown",
   "metadata": {},
   "source": [
    "# Funciones\n",
    "## Taller Python TCU- Tropicalización de la Tecnología\n",
    "### Isaac Rojas Hernández\n",
    "### B76693\n"
   ]
  },
  {
   "cell_type": "markdown",
   "metadata": {},
   "source": [
    "Las funciones dentro de cualquier lenguaje de programación sirven para implementar un código que sabemos vamos a utilizar de forma repetida sin tener que reescribir la secuencia de código varias veces. En Python no es la excepción, la implementación de funciones está presente hasta en las declaraciones más básicas del mismo. En python las funciones son invocadas de la siguiente forma `funcion(parámetros)`, por ende podemos ver que desde el inicio utilizamos funciones como `math.sin(x)`, `math.pow(2,2)` y muchas otras más. El poder reutilizar código de esta forma presenta varias ventajas como lo pueden ser: \n",
    "* Al python ser un lenguaje interpretado en vez de compilado, su implementación y tiempos de ejecución, son mayores a los de un programa compilado, el reducir la cantidad de líneas de código permite que el programa corra de forma más óptima y por ende más rápida\n",
    "* Nos ahorra tiempo a nosotros también, re-implementando código que anteriormente hicimos, en vez de reescribirlo por completo o incluso copiarlo de forma innecesaria. \n",
    "* Permite a otros usuarios que trabajen dentro de nuestro código o con derivados del mismo no tener que reinventar lo que ya está inventado"
   ]
  },
  {
   "cell_type": "markdown",
   "metadata": {},
   "source": [
    "Pero como se implementa o se crea una función en python? Entonces veamos un pequeño ejemplo, donde tengamos que crear un programa que haga sumas de 3 números por nosotros. Para ello podemos simplemente sumar manualmente los 3 números cada vez que lo requiramos, pero podemos matar la hormiga con un tanque y utilizar una función. Primero debemos definir o invocar la función con el indicador `def` y además definir los parámetros que recibe la función, que en este caso son los 3 números que vamos a sumar: \n"
   ]
  },
  {
   "cell_type": "code",
   "execution_count": 1,
   "metadata": {},
   "outputs": [],
   "source": [
    "def sum_tres(a,b,c):\n",
    "    d = a + b + c\n",
    "    return d"
   ]
  },
  {
   "cell_type": "markdown",
   "metadata": {},
   "source": [
    "Como se puede apreciar en el código de arriba, creamos la función con el indicador `def sum_tres(a,b,c)`, además dentro de la función implementamos lo que queremos realizar, que en este caso sería la suma de los 3 números que se ingresaron. Además la idea de las funciones es realizar alguna acción significativa en el proceso de ejecución, en este caso sería obtener el resultado de la suma, entonces tenemos que hacer que la función **devuelva** ese número, el cual lo obtenemos después gracias al `return` utilizado al final de la función. \n",
    "\n",
    "Ahora si queremos utilizar la función es nada más cuestión de **llamarla** dentro de otro bloque de código con su nombre y los parámetros que queramos sumar. Además cabe resaltar, que como la función devuelve un resultado, este mismo debe guardarse en algún lugar, por ende debemos igualarlo a alguna variable."
   ]
  },
  {
   "cell_type": "code",
   "execution_count": 2,
   "metadata": {},
   "outputs": [
    {
     "name": "stdout",
     "output_type": "stream",
     "text": [
      "60\n"
     ]
    }
   ],
   "source": [
    "prueba = sum_tres(10,20,30)\n",
    "print(prueba)"
   ]
  },
  {
   "cell_type": "markdown",
   "metadata": {},
   "source": [
    "Como se aprecia en el código de arriba, no tuvimos que reescribir la suma completa, sino que al invocar la función e ingresarle los valores que queremos sumar nos dio un resultado. Este puede verse como el ejemplo más sencillo al hacer funciones, sin embargo muestra la facilidad de utilizar funciones y como implementarlas puede ahorrarnos hasta en lo más básico. A partir de esto el cielo es el límite con respecto a la implementación de funciones. "
   ]
  },
  {
   "cell_type": "markdown",
   "metadata": {},
   "source": [
    "El próximo video y cuaderno de jupyter tendrán un ejemplo un poco más avanzado sobre el uso de funciones, donde tomaremos en cuenta todo lo visto con anterioridad y además haremos algo más extenso para terminar de complementar lo visto en el actual cuaderno. "
   ]
  }
 ],
 "metadata": {
  "kernelspec": {
   "display_name": "Python 3",
   "language": "python",
   "name": "python3"
  },
  "language_info": {
   "codemirror_mode": {
    "name": "ipython",
    "version": 3
   },
   "file_extension": ".py",
   "mimetype": "text/x-python",
   "name": "python",
   "nbconvert_exporter": "python",
   "pygments_lexer": "ipython3",
   "version": "3.8.3"
  }
 },
 "nbformat": 4,
 "nbformat_minor": 4
}
