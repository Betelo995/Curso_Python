{
 "cells": [
  {
   "cell_type": "markdown",
   "metadata": {},
   "source": [
    "## Taller Python TCU- Tropicalización de la Tecnología\n",
    "### Introducción a las librerías\n",
    "\n",
    "##### Isaac Rojas Hernández\n",
    "##### B76693\n"
   ]
  },
  {
   "cell_type": "markdown",
   "metadata": {},
   "source": [
    "La librerías que Python son compilaciones de código previamente escrito que realizan ciertas funciones de manera óptima y previamente comprobada. Sirven en la mayoría de sus casos para poder implementar en nuestro código éstas funciones sin tener que reescribir completamente su implementación en código. Además nos ayudan a utilizar Interfaces de Programación de Aplicaciones ($\\textbf{API}$), para desarrollar códigos que se implementen en plataformas de terceros (Facebook, Amazon Web Services, Telegram, Discord, páginas web... etc.).\n",
    "\n",
    "\n",
    "¿Cómo se implementa una librería?\n",
    "```Python\n",
    "import libreria\n",
    "\n",
    "```\n",
    "\n",
    "El ejemplo más básico la librería de matemática, donde forma nativa Python, solamente puede realizar operaciones básicas, sin embargo importando matemática, se logra acceder a más funciones. Como por ejemplo obtener el seno de $45 ^{\\circ}$\n",
    "\n",
    "\n"
   ]
  },
  {
   "cell_type": "code",
   "execution_count": 1,
   "metadata": {},
   "outputs": [
    {
     "data": {
      "text/plain": [
       "0.7071067811865476"
      ]
     },
     "execution_count": 1,
     "metadata": {},
     "output_type": "execute_result"
    }
   ],
   "source": [
    "import math\n",
    "\n",
    "math.sin((45*math.pi)/180)"
   ]
  },
  {
   "cell_type": "markdown",
   "metadata": {},
   "source": [
    "Hay distintas formas de importar una librería, ya que muchas veces el código se puede tornar muy largo si se escribe todo el nombre completo de la misma, por lo cual la forma alternativa sería usando el conector `as` y así darle un alias al mismo como se aprecia a continuación:  \n",
    "```Python\n",
    "import math as mt\n",
    "\n",
    "```\n",
    "\n",
    "De esta forma, cada vez que se necesite importar una función de la librería se realiza con el alias de forma que se acorta el código `mt.sin()`"
   ]
  },
  {
   "cell_type": "code",
   "execution_count": 2,
   "metadata": {},
   "outputs": [
    {
     "data": {
      "text/plain": [
       "4.0"
      ]
     },
     "execution_count": 2,
     "metadata": {},
     "output_type": "execute_result"
    }
   ],
   "source": [
    "import math as mt\n",
    "mt.pow(2,2)"
   ]
  },
  {
   "attachments": {},
   "cell_type": "markdown",
   "metadata": {},
   "source": [
    "Hay múltiples libererías para distintas necesidades dentro de un entorno de desarrollo, como por ejemplo NUMPY \n",
    "<img src=\"https://miro.medium.com/max/765/1*cyXCE-JcBelTyrK-58w6_Q.png\" width = \"300\" height=\"300\"/>\n",
    "\n",
    "Que tiene múltiples funciones matemáticas y científicas avanzadas, como el manejo de matrices y vectores, además de solucionar sistemas de ecuaciones, tanto normales como diferenciales y muchas otras más. El uso de la misma estuvo involucrado dentro de la obtención de la primera imágen de un agujero negro. \n",
    "\n",
    "Otro ejemplo de librerías similares sería como pandas o scipy, que aunque tienen también un propósito científico, se pueden utilizar de forma conjunta para crear mejores códigos y multifuncionales. \n",
    "<img src=\"https://upload.wikimedia.org/wikipedia/commons/thumb/e/ed/Pandas_logo.svg/1200px-Pandas_logo.svg.png\" width=\"200\" height=\"200\" />\n",
    "<img src=\"https://www.fullstackpython.com/img/logos/scipy.png\" width=\"200\" height=\"200\" />\n",
    "\n"
   ]
  },
  {
   "cell_type": "markdown",
   "metadata": {},
   "source": [
    "Otras librerías que sirven para múltiples aplicaciones, fuera del ámbito científico, son aquellas como:\n",
    "* PyGame: Un conjunto de librerías para el desarollo de juegos con el lenguaje Python\n",
    "* TelegrambotAPI: Un API para poder desarrollar un bot virtual dentro de la plataforma de telegram\n",
    "* DiscordbotAPI: Un API para desarrollar un bot dentro de Discord\n",
    "* Flask: Un framework para poder crear aplicaciones web con Python\n",
    "* Django: Framework para desarrollar sitios web con python. \n",
    "\n",
    "Así mismo existen múltiples librerías dependiendo del uso que queramos darle a nuestro código, las librerías se pueden combinar como se mencionó anteriormente para tener mayores posibilidades dentro del desarollo, por eso es una base muy importante del aprendizaje de Python, al igual que en cualquier otro lenguaje de programación. "
   ]
  },
  {
   "cell_type": "code",
   "execution_count": null,
   "metadata": {},
   "outputs": [],
   "source": []
  }
 ],
 "metadata": {
  "kernelspec": {
   "display_name": "Python 3",
   "language": "python",
   "name": "python3"
  },
  "language_info": {
   "codemirror_mode": {
    "name": "ipython",
    "version": 3
   },
   "file_extension": ".py",
   "mimetype": "text/x-python",
   "name": "python",
   "nbconvert_exporter": "python",
   "pygments_lexer": "ipython3",
   "version": "3.8.3"
  }
 },
 "nbformat": 4,
 "nbformat_minor": 4
}
