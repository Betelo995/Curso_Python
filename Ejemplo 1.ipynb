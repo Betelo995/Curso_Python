{
 "cells": [
  {
   "cell_type": "markdown",
   "metadata": {},
   "source": [
    "# Ejemplo 2\n",
    "## Taller Python TCU- Tropicalización de la Tecnología\n",
    "\n",
    "### Isaac Rojas Hernández\n",
    "### B76693\n",
    "\n",
    "#### Calculadora de ecuación cuadrática\n"
   ]
  },
  {
   "cell_type": "markdown",
   "metadata": {},
   "source": [
    "El primer paso para poder realizar este ejercicio es importar la librería matemática, ya que es la base del programa y básicamente lo usamos en todo momento del mismo. \n"
   ]
  },
  {
   "cell_type": "code",
   "execution_count": null,
   "metadata": {},
   "outputs": [],
   "source": [
    "import math as mt\n"
   ]
  },
  {
   "cell_type": "markdown",
   "metadata": {},
   "source": [
    "Ahora, recordando que la fórmula base de una ecuación cuadrática es $ax^{2}+bx+c$, donde $a$, $b$ y $c$ son cualquier número real, debemos solicitar al usuario que introduzca cada uno de esos valores para luego poder obtener el discriminante con la fórmula del mismo dada por:\n",
    "$$\n",
    "\\begin{equation}\n",
    "\\Delta = b^{2}-4\\cdot a\\cdot c\n",
    "\\end{equation}\n",
    "$$. \n"
   ]
  },
  {
   "cell_type": "code",
   "execution_count": 1,
   "metadata": {},
   "outputs": [
    {
     "name": "stdout",
     "output_type": "stream",
     "text": [
      "Tenemos la ecuacion ax^2 + bx + c\n",
      "Ingrese el valor de a: 2\n",
      "Ingrese el valor de b: 2\n",
      "Ingrese el valor de c: 2\n"
     ]
    }
   ],
   "source": [
    "import math as mt\n",
    "print(\"Tenemos la ecuacion ax^2 + bx + c\")\n",
    "a = float(input(\"Ingrese el valor de a: \"))\n",
    "b = float(input(\"Ingrese el valor de b: \"))\n",
    "c = float(input(\"Ingrese el valor de c: \"))\n",
    "discriminante = mt.pow(b,2)+(-4*a*c)\n"
   ]
  },
  {
   "cell_type": "markdown",
   "metadata": {},
   "source": [
    "Una vez con la estructura de solicitud de datos, debemos recordar bien las características de la ecuación cuadrática y como el discriminante determina la cantidad de soluciones que posee el mismo con las siguientes reglas: \n",
    "* $\\Delta > 0$: Tiene dos soluciones reales. \n",
    "* $\\Delta < 0$: No posee soluciones reales (que a terminos del programa y para facilidad se asume que no tiene soluciones).\n",
    "* $\\Delta = 0$: Posee una solución real.\n",
    "Con esta información procedemos a evaluar el discriminante obtenido del primer bloque del código\n"
   ]
  },
  {
   "cell_type": "code",
   "execution_count": null,
   "metadata": {},
   "outputs": [],
   "source": [
    "print(\"Tenemos la ecuacion ax^2 + bx + c\")\n",
    "a = float(input(\"Ingrese el valor de a: \"))\n",
    "b = float(input(\"Ingrese el valor de b: \"))\n",
    "c = float(input(\"Ingrese el valor de c: \"))\n",
    "discriminante = mt.pow(b,2)+(-4*a*c)\n",
    "\n",
    "if a != 0: \n",
    "    \n",
    "    if discriminante >= 0: \n",
    "        \n",
    "    elif discriminante < 0:\n",
    "    \n",
    "elif a == 0: \n"
   ]
  },
  {
   "cell_type": "markdown",
   "metadata": {},
   "source": [
    "Los condicionales externos se ponen solamente para delimitar el trabajo que realiza el programa, ya que si no se posee una constante $a$ distinta de $0$, entonces inmediatamente la función no tiene más de dos soluciones y el discriminante no puede obtener un resultado menor a cero. En el caso de que $a$ sea distinta de $0$, entonces tenemos los dos casos partículares mencionados arriba, cuando $\\Delta \\geq 0$ es donde utilizamos la fórmula:\n",
    "$$\n",
    "\\begin{equation}\n",
    "x = \\frac{-b\\pm \\sqrt{\\Delta}}{2a}\n",
    "\\end{equation}\n",
    "$$\n",
    "\n",
    "Y se procede a imprimir las soluciones correspondientes, en caso de que $\\Delta < 0$, entonces solamente se debe imprimir que la ecuación no posee soluciones reales. Para cuando el coeficiente cuadrado es igual a cero, entonces únicamente se debe evaluar la solución de una ecuación lineal dada por: \n",
    "$$\n",
    "\\begin{equation}\n",
    "x  = \\frac{-c}{b}\n",
    "\\end{equation}\n",
    "$$\n",
    "Con esto se cubren todos los casos correspondientes a la ecuación cuadrática dando como resultado el código siguiente\n"
   ]
  },
  {
   "cell_type": "code",
   "execution_count": null,
   "metadata": {},
   "outputs": [],
   "source": [
    "import math as mt\n",
    "\n",
    "print(\"Tenemos la ecuacion ax^2 + bx + c\")\n",
    "a = float(input(\"Ingrese el valor de a: \"))\n",
    "b = float(input(\"Ingrese el valor de b: \"))\n",
    "c = float(input(\"Ingrese el valor de c: \"))\n",
    "discriminante = mt.pow(b,2)+(-4*a*c)\n",
    "\n",
    "if a != 0: \n",
    "    if discriminante >= 0: \n",
    "        x1 = ((-b + mt.sqrt(discriminante))/(2*a))\n",
    "        x2 = ((-b - mt.sqrt(discriminante))/(2*a))\n",
    "        print(\"Las soluciones de la ecuacion son: x1 = %.4f y x2 = %.4f\" %(x1,x2))\n",
    "    elif discriminante < 0: \n",
    "        print(\"Este conjunto no tiene soluciones reales.\")\n",
    "elif a == 0: \n",
    "    x = (-c)/b\n",
    "    print(\"La solucion de la ecuacion es: x = %.4f\" %(x))"
   ]
  },
  {
   "cell_type": "markdown",
   "metadata": {},
   "source": [
    "Con esto se cubre el primer ejemplo básico del uso de python, donde cubrimos los temas vistos previamente en los vídeos explicativos. Hay muchas formas de llegar a la misma solución del problema, por lo tanto esta no es la única solución para el problema dado incialmente, es importante llegar a otras soluciones propias y poder obtener un código a nuestra forma, inclusive más corto y optimizado. "
   ]
  }
 ],
 "metadata": {
  "kernelspec": {
   "display_name": "Python 3",
   "language": "python",
   "name": "python3"
  },
  "language_info": {
   "codemirror_mode": {
    "name": "ipython",
    "version": 3
   },
   "file_extension": ".py",
   "mimetype": "text/x-python",
   "name": "python",
   "nbconvert_exporter": "python",
   "pygments_lexer": "ipython3",
   "version": "3.8.3"
  }
 },
 "nbformat": 4,
 "nbformat_minor": 4
}
