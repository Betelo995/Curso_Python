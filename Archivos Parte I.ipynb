{
 "cells": [
  {
   "cell_type": "markdown",
   "metadata": {},
   "source": [
    "# Manejo de Archivos Parte I\n",
    "## Taller Python TCU- Tropicalización de la Tecnología\n",
    "### Isaac Rojas Hernández\n",
    "### B76693\n"
   ]
  },
  {
   "cell_type": "markdown",
   "metadata": {},
   "source": [
    "El manejo de archivos una herramienta dentro de la programación en Python que nos es útil para una infinidad de casos en los que requiramos obtener información de fuentes externas en cantidades que pedirlas manualmente serían poco prácticas o también para casos en los que requiramos un registro permanente de algún tipo de resultado que un programa que creamos nos dé como salida.  \n",
    "\n",
    "El manejo de archivos toma de la computadora donde está corriendo un archivo y lo modifica o lo crea dependiendo de nuestras necesidades. Muchas veces puede ser solamente un archivo de texto **.txt** o a veces un archivo que luego pueda ser legible en algo como excel y se utiliza un **.csv**. Además muchas veces se tienen archivos no legibles para las personas como lo son archivos binarios, tales como ejecutables compilados de otros lenguajes como C o C++. Mediante Python podemos hacer no solo lectura, sino que también una manipulación más amplia como escribir, sobrescribir, borrar contenido y crear nuevos archivos, todo dependiendo de nuestras necesidades meramente. \n",
    "\n",
    "Para abrir un archivo dentro de python se necesitan comandos o frases especiales que no requieren de importar ningún módulo externo, como lo son: \n",
    "* `open()`\n",
    "* `close()`\n",
    "* `write()`\n",
    "* `read()`\n",
    "\n",
    "Estas son las funciones principales dentro del uso de archivos, cada una de ellas tiene parámetros que pueden afectar el comportamiento que tengan con el archivo que estemos manejando, por ejemplo la forma más básica de abrir un archivo con el open es la siguiente: \n",
    "```Python\n",
    "f = open(\"Nombre_del_Archivo.txt\", \"Como queremos abrir el archivo\")\n",
    "```\n",
    "Donde podemos modificar tanto el nombre del archivo por uno existente, donde muchas veces se requiere utilizar una ruta completa dentro del sistema para que python pueda encontrarlo. Del lado derecho tenemos como queremos que se abra el archivo como tal, que para esto tenemos varios parámetros: \n",
    "* `'r'`: Es la forma más sencilla de abrir un archivo y se utiliza cuando únicamente queremos leer lo que posee el archivo adentro del mismo. \n",
    "* `'w'`: Abre el archivo para escribir en él, no importa si ya hay contenido, este indicador borra por completo el contenido antiguo y lo sustituye por el nuevo. Si el archivo no existe lo crea\n",
    "* `'a'`: Se utiliza para anexar cosas a un archivo previamente creado\n",
    "* `'x'`: Crea el archivo que se especifica y si ya existe devuelve un error. \n",
    "\n",
    "Además de estos parámetros se tienen diferentes alternativas o variantes a ellos que es cuando queremos especificar como se deben tratar, por ejemplo con archivos binarios los parámetros se ven así `'rb'` `'wb'` `'ab'` `'xb'` o si específicamos que son archivos de texto lo mismo, pero con un _t_ en vez de una _b_. \n",
    "\n",
    "Veamos un ejemplo de un comando de python que abriría un archivo: "
   ]
  },
  {
   "cell_type": "code",
   "execution_count": 6,
   "metadata": {},
   "outputs": [],
   "source": [
    "f = open('ejem.txt','w')\n",
    "f.write(\"Hola Mundo!!!!!!!!!!\")\n",
    "f.close()"
   ]
  },
  {
   "cell_type": "markdown",
   "metadata": {},
   "source": [
    "Con estos comando de arriba, abrimos el archivo y de no existir lo creamos, ya que usamos el parámetro `w` y luego con el `f.write(\"Hola Mundo!!!!!!!!!\")` escribiría dentro del archivo. Muy importante destacar que cada vez que dejemos de usar un archivo necesitamos cerrarlo, ya que puede ocasionar perdidas de memoria o mal manejo del programa que resulta en un deterioro del rendimiento de la computadora a corto plazo, por ende usar siempre el `f.close()` cada vez que finalicemos el uso del archivo. \n",
    "\n",
    "\n",
    "Si queremos volver a acceder al archivo es muy fácil volver a abrirlo, pero en vez de usar el parámetro `w` usar el `r` para poder leer el contenido que escribimos previamente. \n",
    "\n"
   ]
  },
  {
   "cell_type": "code",
   "execution_count": 8,
   "metadata": {
    "scrolled": true
   },
   "outputs": [
    {
     "name": "stdout",
     "output_type": "stream",
     "text": [
      "Hola Mundo!!!!!!!!!!\n"
     ]
    }
   ],
   "source": [
    "f = open('ejem.txt', 'r')\n",
    "lectura = f.read()\n",
    "print(lectura)\n",
    "f.close()"
   ]
  },
  {
   "cell_type": "markdown",
   "metadata": {},
   "source": [
    "Hay diferentes comandos extras para poder leer y manipular los archivos una vez abierto, sin embargo son para usos más específicos. De forma que ya conocemos como manipular los archivos de forma básica y sencilla en python. "
   ]
  }
 ],
 "metadata": {
  "kernelspec": {
   "display_name": "Python 3",
   "language": "python",
   "name": "python3"
  },
  "language_info": {
   "codemirror_mode": {
    "name": "ipython",
    "version": 3
   },
   "file_extension": ".py",
   "mimetype": "text/x-python",
   "name": "python",
   "nbconvert_exporter": "python",
   "pygments_lexer": "ipython3",
   "version": "3.8.3"
  }
 },
 "nbformat": 4,
 "nbformat_minor": 4
}
