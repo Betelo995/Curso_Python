{
 "cells": [
  {
   "cell_type": "markdown",
   "metadata": {},
   "source": [
    "# Manejo de Archivos Parte II\n",
    "## Taller Python TCU- Tropicalización de la Tecnología\n",
    "### Isaac Rojas Hernández\n",
    "### B76693"
   ]
  },
  {
   "cell_type": "markdown",
   "metadata": {},
   "source": [
    "En la clase pasada pudimos observar como manipular archivos de forma sencilla y básica con Python, ahora vamos a ver un ejemplo un poco más extenso sobre como se aplican estos conocimientos previos. Para este ejemplo vamos a crear un programa que registre los valores de una función para un intervalo que el usuario le va a dar y para una _n_ cantidad de muestras dentro de ese intervalo. Usaremos una función un poco peculiar como lo es el seno cardinal, ya que su fórmula viene dada por: \n",
    "$$\n",
    "\\begin{equation}\n",
    "sinc(x) = \\frac{sin(x)}{x\\pi}\n",
    "\\end{equation}\n",
    "$$\n",
    "\n",
    "Esta función tiene diferentes características especiales, debido a que en los números enteros siempre es equivalente a cero y en los números entre enteros, siempre tiende a cero, aunque no lo es completamente. Únicamente cuando $x = 0$ su valor es equivalente a $1$, algo que se obtiene con resultados de límites de cálculo integral, ya que de lo contrario la fórmula es imposible, porque hay una división entre 0. La gráfica de la función se puede apreciar en la siguiente imágen: \n",
    "<img src=\"https://ars.els-cdn.com/content/image/3-s2.0-B978012407682200003X-f03-15-9780124076822.jpg\" width = \"500\" height=\"500\"/>\n",
    "\n",
    "Entendiendo esto, la ídea es que el programa le solicite al usuario el límite superior, el inferior y la cantidad de términos que desea, además luego cuando vaya a escribir en el archivo logre indexar el número de término y en la misma línea escriba el $x$ y el $f(x)$, es decir el número a evalúar en el $sinc(x)$ y el resultado de la evaluación. Primero vamos a solicitar los límites y la cantidad de términos para poder calcular en cuantas partes dividir el intervalo: \n"
   ]
  },
  {
   "cell_type": "code",
   "execution_count": null,
   "metadata": {},
   "outputs": [],
   "source": [
    "import math\n",
    "lim_a = float(input(\"Ingrese el valor inicial del intervalo: \"))\n",
    "lim_b = float(input(\"Ingrese el valor final del intervalo: \"))\n",
    "terminos_n = int(input(\"Ingrese la cantidad de terminos que desea: \"))\n",
    "i = (lim_b - lim_a)/(terminos_n-1)"
   ]
  },
  {
   "cell_type": "markdown",
   "metadata": {},
   "source": [
    "Luego necesitamos abrir un archivo vacío y hacer que cada vez que corramos el programa sea completamente limpio, por ende vamos a abrirlo con el parámetro `w`. Y ocupamos una bandera para poder ir iterando hasta llegar a la cantidad de términos establecidos por el usuario.\n"
   ]
  },
  {
   "cell_type": "code",
   "execution_count": null,
   "metadata": {},
   "outputs": [],
   "source": [
    "import math\n",
    "\n",
    "lim_a = float(input(\"Ingrese el valor inicial del intervalo: \"))\n",
    "lim_b = float(input(\"Ingrese el valor final del intervalo: \"))\n",
    "terminos_n = int(input(\"Ingrese la cantidad de terminos que desea: \"))\n",
    "i = (lim_b - lim_a)/(terminos_n-1)\n",
    "n = 0\n",
    "archivo = open(\"valores_sin.csv\", \"w\")\n",
    "while n <= terminos_n-1:\n"
   ]
  },
  {
   "cell_type": "markdown",
   "metadata": {},
   "source": [
    "Una vez hecho esto vamos a crear una variable dentro del `while` que pueda ser el valor que vamos a evalur como $x$, para ello ocupamos la fórmula para determinarlo que viene dada por: \n",
    "$$\n",
    "\\begin{equation}\n",
    "x = lim_{a} + i\\circ n\n",
    "\\end{equation}\n",
    "$$\n",
    "Y luego se harán 2 casos específicos, donde si $x \\neq 0$ entonces va a calcular el valor con la fórmula del $sinc(x)$, de lo contrario únicamente escribiría un $0$ en el valor a evaluar y un $1$ en el resultado, ya que al ser un programa simple la división entre 0 sería imposible. Ya de forma final, cerramos el archivo para prevenir un mal manejo del uso de la memoria. El programa final se vería de la siguiente forma: \n"
   ]
  },
  {
   "cell_type": "code",
   "execution_count": null,
   "metadata": {},
   "outputs": [],
   "source": [
    "import math\n",
    "\n",
    "lim_a = float(input(\"Ingrese el valor inicial del intervalo: \"))\n",
    "lim_b = float(input(\"Ingrese el valor final del intervalo: \"))\n",
    "terminos_n = int(input(\"Ingrese la cantidad de terminos que desea: \"))\n",
    "i = (lim_b - lim_a)/(terminos_n-1)\n",
    "n = 0\n",
    "archivo = open(\"C:/Users/isaac/Desktop/valores_sin.csv\", \"w\")\n",
    "while n <= terminos_n-1:\n",
    "    x = lim_a + i*n\n",
    "    if x != 0:    \n",
    "        sinc = math.sin(x*math.pi)/(x*math.pi)\n",
    "        archivo.write(\"%d\"%(n))\n",
    "        archivo.write(\";\")\n",
    "        archivo.write(\"%.4f\"%(x))\n",
    "        archivo.write(\";\")\n",
    "        archivo.write(\"%.4f \\n\" %(sinc))\n",
    "    else: \n",
    "        archivo.write(str(n))\n",
    "        archivo.write(\";\")\n",
    "        archivo.write(\"0\")\n",
    "        archivo.write(\";\")\n",
    "        archivo.write(\"1\\n\")\n",
    "    n += 1\n",
    "archivo.close()"
   ]
  }
 ],
 "metadata": {
  "kernelspec": {
   "display_name": "Python 3",
   "language": "python",
   "name": "python3"
  },
  "language_info": {
   "codemirror_mode": {
    "name": "ipython",
    "version": 3
   },
   "file_extension": ".py",
   "mimetype": "text/x-python",
   "name": "python",
   "nbconvert_exporter": "python",
   "pygments_lexer": "ipython3",
   "version": "3.8.3"
  }
 },
 "nbformat": 4,
 "nbformat_minor": 4
}
