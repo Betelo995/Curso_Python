{
 "cells": [
  {
   "cell_type": "markdown",
   "metadata": {},
   "source": [
    "# Listas\n",
    "## Taller Python TCU- Tropicalización de la Tecnología\n",
    "### Isaac Rojas Hernández\n",
    "### B76693"
   ]
  },
  {
   "cell_type": "markdown",
   "metadata": {},
   "source": [
    "Las listas son unas de las múltiples variables dentro del entorno de desarrollo de Python que nos facilitan las cosas a la hora de programar. Son de suma importancia, ya que con ella podemos hacer múltiples cosas sin hacer uso de ninguna librería externa. No solamente se le puede ver como una variable, ya que son un poco más complejas que eso, sino como una estructura de datos, que dentro de sí misma permite el almacenamiento de múltiples otras variables, de todo tipo, incluídas otras listas. Las listas se definen de la siguiente forma: \n",
    "```Python\n",
    "lista = []\n",
    "```\n",
    "Como se mencionó anteriormente al ser una estructura de datos, permite almacenar dentro de ella diferentes variables y no solamente de un solo tipo, sino que pueden ser múltiples tipos de variables. \n",
    "```Python\n",
    "lista = [1,2,3,4,5] #Esta lista es válida\n",
    "lista2 = [1, True, 2.5, \"Hola\"] #Esta lista también es válida\n",
    "```\n",
    "Pero ahora que tenemos almacenados datos dentro de la lista, necesitamos acceder a ellos, para ello es necesario entender que dentro del mundo de la programación el valor inicial siempre es $0$ y no $1$, entonces la estructura de acceso de elementos dentro de una lista se logra con el comando `lista[numero_de_Elemento]`, donde $0$ sería la primera posición hasta $n-1$ donde $n$ es el tamaño de la lista. veamos el siguiente ejemplo para acceder a los elementos de las listas que dimos como ejemplo arriba. "
   ]
  },
  {
   "cell_type": "code",
   "execution_count": 2,
   "metadata": {},
   "outputs": [
    {
     "name": "stdout",
     "output_type": "stream",
     "text": [
      "1\n",
      "3\n",
      "5\n"
     ]
    }
   ],
   "source": [
    "lista = [1,2,3,4,5] #Esta lista es válida\n",
    "print(lista[0]) #imprime el primero elemento de la lista, que en este caso es 1\n",
    "print(lista[2]) #imprime el tercer elemento de la lista\n",
    "print(lista[4]) #imprime el quinto elemento de la lista o el n-1"
   ]
  },
  {
   "cell_type": "markdown",
   "metadata": {},
   "source": [
    "otra forma de recorrer todos los elementos de una lista se logra al utilizar ciclos, el más común suele ser el for ya que permite una implementación directa del recorrido de la misma, como podemos ver en el siguiente ciclo: \n",
    "\n"
   ]
  },
  {
   "cell_type": "code",
   "execution_count": 3,
   "metadata": {},
   "outputs": [
    {
     "name": "stdout",
     "output_type": "stream",
     "text": [
      "1\n",
      "2\n",
      "3\n",
      "4\n",
      "5\n"
     ]
    }
   ],
   "source": [
    "lista = [1, 2, 3 , 4, 5]\n",
    "for element in lista: \n",
    "    print(element)\n",
    "    "
   ]
  },
  {
   "cell_type": "markdown",
   "metadata": {},
   "source": [
    "Al ser una variable tan interesante, posee múltiples funciones para poder manipularla y son de suma importancia para poder comprenderla por completo. La más básica de todas es la función `append(elemento)` que nos permite añadir a la lista un nuevo elemento, es decir extenderla. También existe la función `extend([2,2])`, que a diferencia de `append()`, si queremos agregar una lista, lo que hace es combinarlas, en vez de insertar la lista completa como un elemento. "
   ]
  },
  {
   "cell_type": "code",
   "execution_count": 4,
   "metadata": {},
   "outputs": [
    {
     "name": "stdout",
     "output_type": "stream",
     "text": [
      "[1, 2]\n",
      "[1, 2, 3]\n",
      "[1, 2, 3, 4, 5]\n"
     ]
    }
   ],
   "source": [
    "lista = [1,2]\n",
    "print(lista)\n",
    "\n",
    "lista.append(3)\n",
    "print(lista)\n",
    "\n",
    "lista.extend([4,5])\n",
    "print(lista)"
   ]
  },
  {
   "cell_type": "markdown",
   "metadata": {},
   "source": [
    "En el caso de querer eliminar un elemento podemos utilizar también la función `remove(elemento)` y la función quitará por completo el elemento que le pasemos como parámetro. Hay otras funciones secundarias en caso de que necesitemos buscar un elemento podemos usar `index(elemento)` y nos dirá la posición en la que se encuentra ese elemento dentro de la lista, además con `count(elemento)` podemos obtener cuantas veces existe un elemento dentro de una lista. "
   ]
  },
  {
   "cell_type": "code",
   "execution_count": 5,
   "metadata": {},
   "outputs": [
    {
     "name": "stdout",
     "output_type": "stream",
     "text": [
      "[1, 2]\n",
      "1\n",
      "[1]\n",
      "1\n"
     ]
    }
   ],
   "source": [
    "lista = [1, 2]\n",
    "print(lista)\n",
    "\n",
    "print(lista.index(2))\n",
    "\n",
    "lista.remove(2)\n",
    "print(lista)\n",
    "\n",
    "print(lista.count(1))\n"
   ]
  },
  {
   "cell_type": "markdown",
   "metadata": {},
   "source": [
    "Con estas funciones principales podemos crear ya muchos programas que utilicen las listas como una estructura de datos de almacenamiento. Son variables bastantes sencillas, pero también imprescindibles, por ende su importancia dentro del lenguaje de programación Python. "
   ]
  }
 ],
 "metadata": {
  "kernelspec": {
   "display_name": "Python 3",
   "language": "python",
   "name": "python3"
  },
  "language_info": {
   "codemirror_mode": {
    "name": "ipython",
    "version": 3
   },
   "file_extension": ".py",
   "mimetype": "text/x-python",
   "name": "python",
   "nbconvert_exporter": "python",
   "pygments_lexer": "ipython3",
   "version": "3.8.5"
  }
 },
 "nbformat": 4,
 "nbformat_minor": 4
}
