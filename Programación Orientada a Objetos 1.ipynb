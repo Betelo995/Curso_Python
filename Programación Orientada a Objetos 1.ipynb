{
 "cells": [
  {
   "cell_type": "markdown",
   "metadata": {},
   "source": [
    "# Programación Orientada a Objetos\n",
    "## Taller Python TCU- Tropicalización de la Tecnología\n",
    "\n",
    "### Isaac Rojas Hernández\n",
    "### B76693\n",
    "\n"
   ]
  },
  {
   "cell_type": "markdown",
   "metadata": {},
   "source": [
    "La programación Orientada a Objetos es un Paradigma de programación, es decir una forma de escribir el código de nuestros programas, que tiene una estructura organizada para cada parte del código. En forma sencilla el ***POO*** (como se llama comúnmente a este paradigma, es una forma de organizar el código de forma que sea entendible para el programador y para terceros que estén revisando el proyecto o inclusive más colaboradores del mismo. \n",
    "\n",
    "La principal idea del POO, es que podamos ver el código de la misma forma que vemos el mundo, en ella tenemos el elemento principal llamado *Clases*, de las cuales derivamos otro elemento denominado *Objetos*, apartir de esto podemos crear un código de funcione con distintas clases y objetos interactuando entre sí. La forma más sencilla de verlo es con una correlación con la vida real como lo son los perros.\n",
    "\n",
    "Podríamos denominar a los **perros** como una clase de ser vivo, pero en el mundo hay millones de perros, por ende habrían millones de *objetos*, cada uno de estos perros tienen *atributos* distintos, como la raza, el color del pelo, el peso y muchos otros más. Además todos los perros tienen necesidades básicas y hacen muchos las mismas cosas como lo son comer, dormir, correr, ladrar, que estas pueden considerarse *métodos*, dicho esto dentro de programación podemos relacionarlo de la siguiente forma: \n",
    "\n",
    "* **Clase:** Es la forma más básica de denominar a un objeto dentro del código, asociandolo a un grupo específico, sin definir propiedades específicas del objeto. Se puede ver como una plantilla vacía a partir de la cual se crean los elementos del código, la cuál al especificarse se convierte en un objeto. (Ejemplo: el animal perro)\n",
    "* **Objeto:** Creado a partir de su clase, un objeto es un elemento con características específicas de cada una, que pueden o no repetirse en otros objetos, pero que lo definen como único. (Ejemplo: Jumper, **mi** perro)\n",
    "* **Métodos:** Son funciones que cada clase tiene y por ende cada objeto puede ejecutar para realizar ciertas acciones requeridas. (Ejemplo: Ladrar)\n",
    "\n",
    "| **Clase**     | Perro                                       | Gato                                                         |\n",
    "|---------------|---------------------------------------------|--------------------------------------------------------------|\n",
    "| **Objetos**   | Spanky, Jumper, Bobby, Clifford..           | Garfield, Pelusa, Agatha, Capuccino...                       |\n",
    "| **Atributos** | Color del pelo, edad, raza, peso, altura..  | Color del pelo, edad, raza, peso, altura...                  |\n",
    "| **Métodos**   | Ladrar, comer, correr, dormir, ir al baño   | Maullar, dormir, comer, ir a la caja de arena, saltar techos |\n",
    "\n",
    "Al igual que con las funciones el objetivo del POO es poder hacer un código más corto, ordenado y totalmente reutilizable, ya que al tener establecido una clase, es muy sencillo poder crear objetos iguales a partir de la misma clase y utilizarlas en todas las partes del código que se desee. La mejor forma de aprender en programación casi siempre es observando como funciona un programa de lo que nos están hablando por eso vamos a ver el siguiente ejemplo: \n",
    "\n",
    "Vamos a crear una **Pokedex** que registre pokemones que como maestros Pokemón hayamos atrapado, para ello primero tenemos que crear la clase pokemón, que va a tener como atributos: la especie, el nivel, tipo1, tipo2 y estadísticas de ataque y defensa. Además vamos a añadir 2 métodos donde el pokemón se \"lea\" a el mismo y otra donde se \"imprima\":\n"
   ]
  },
  {
   "cell_type": "code",
   "execution_count": 1,
   "metadata": {},
   "outputs": [],
   "source": [
    "#Para iniciar una clase basta utilizar el declarador class\n",
    "\n",
    "class Pokemon: \n",
    "#Luego tenemos que definir los atributos, pero tienen que estar vacíos inicialmente\n",
    "    especie = None\n",
    "    lvl = None\n",
    "    type1 = None\n",
    "    type2 = None\n",
    "    attack = None\n",
    "    defense = None\n",
    "    \n",
    "#Ahora tenemos que definir lo que programación se llama un constructor, que lo que hace es que crea un objeto vacío\n",
    "    def __init__ (self, specie = None, lvl = None, type1 = None, type2 = None, attack = None, defense = None):\n",
    "            self.especie = specie #El self lo que hace es que define los atributos o los llama\n",
    "            self.lvl = lvl\n",
    "            self.type1 = type1 \n",
    "            self.type2 = type2 \n",
    "            self.attack = attack\n",
    "            self.defense = defense\n",
    "\n",
    "#por último definimos todos los métodos dichos anteriormente\n",
    "    def leer_pokemon(self): \n",
    "        self.especie = input(\"Digite la especie del Pokemon: \")\n",
    "        self.lvl = int(input(\"Cuál es el nivel del Pokemon: \"))\n",
    "        self.type1 = input(\"Que tipo de Pokemon es: \")\n",
    "        self.type2 = input(\"Cuál es el segundo tipo del Pokemon: \")\n",
    "        self.attack = int(input(\"Cuanto de ataque tiene el Pokemon: \"))\n",
    "        self.defense = int(input(\"Cuánta defensa tiene el Pokemon: \"))\n",
    "    \n",
    "    def imprimir_pokemon(self):\n",
    "        print(\"\\n Especie: %s\" %self.especie)\n",
    "        print(\"Nivel: %s\" %self.lvl)\n",
    "        print(\"Tipo 1: %s\" %self.type1)\n",
    "        print(\"Tipo 2: %s PP\" %self.type2)\n",
    "        print(\"Attack: %s PP\" %self.attack)\n",
    "      "
   ]
  },
  {
   "cell_type": "markdown",
   "metadata": {},
   "source": [
    "Esta estructura es un ejemplo básico de una clase genérica definida, donde tenemos el nombre de la clase *Pokemon*, los atributos, que por ser solo la clase deben estar **vacíos**, para poder rellenarlos después y sus métodos. Es importante definir un elemento básico como lo es el *constructor*, que su única y principal función es crear un nuevo objeto de su clase, para poder utilizarlo dentro del programa. El constructor es una función específica que en python se define con ```def __init__(self, atributos)```. Otra concepto importante es el de que cada una de las funciones que tenga una clase debe recibirse a ella misma, para que pueda utilizar los atributos, esto se logra con el ```self``` incluído en cada una de las funciones como un argumento.\n",
    "\n",
    "Ahora vamos a crear la Pokedex como tal, usualmente para mantener aún más orden se utilizan archivos de python diferentes, para ello necesitamos importar Pokemon al archivo de Pokedex. Para esta clase necesitamos almacenar los pokemones como atributos, en este caso para no extender demasiado el código vamos a solamente hacer 3 pokemones, además vamos a tener un atributo donde digamos cual es el mejor pokemón de nuestra colección. Cada atributo va a tener **Tipo** Pokemon, ya que esta es la clase a la que pertenecen y es su tipo. Además la Pokedex va a tener 3 métodos propios uno donde lea los pokemones y determine el más fuerte, otra donde imprima los pokemones y diga cual es el mejor de ellos & por último la función que hará que la pokedex corra como tal y funcione. "
   ]
  },
  {
   "cell_type": "code",
   "execution_count": 2,
   "metadata": {},
   "outputs": [],
   "source": [
    "# from Pokemon import Pokemon  Esto solo se activa en caso de hacerlo en archivos .py\n",
    "\n",
    "class Pokedex():\n",
    "    Poke1 = None\n",
    "    Poke2 = None\n",
    "    Poke3 = None\n",
    "    PokeMaximo = None\n",
    "    \n",
    "    def __init__(self):\n",
    "       self.Poke1 = Pokemon()\n",
    "       self.Poke2 = Pokemon()\n",
    "       self.Poke3 = Pokemon()\n",
    "\n",
    "        \n",
    "    def leer_Pokemon(self):\n",
    "       self.Poke1.leer_pokemon() \n",
    "       self.Poke2.leer_pokemon()  \n",
    "       self.Poke3.leer_pokemon()\n",
    "    \n",
    "       self.PokeMaximo = self.Poke1\n",
    "       if self.Poke2.lvl > self.PokeMaximo.lvl:\n",
    "           self.PokeMaximo = self.Poke2\n",
    "       if self.Poke3.lvl > self.PokeMaximo.lvl:\n",
    "           self.PokeMaximo = self.Poke3\n",
    "          \n",
    "    def imprimir_Pokemon(self):\n",
    "        self.Poke1.imprimir_pokemon()\n",
    "        self.Poke2.imprimir_pokemon()\n",
    "        self.Poke3.imprimir_pokemon()\n",
    "        print(\"El Pokemon más fuerte es:  %s\" %self.PokeMaximo.especie)\n",
    "        \n",
    "    def poke_main(self):\n",
    "        self.leer_Pokemon()\n",
    "        self.imprimir_Pokemon()\n"
   ]
  },
  {
   "cell_type": "markdown",
   "metadata": {},
   "source": [
    "Una vez creada la pokedex, simplemente debemos crear un programa \"main\", donde se active la pokedex como tal y ver su funcionamiento: \n"
   ]
  },
  {
   "cell_type": "code",
   "execution_count": 5,
   "metadata": {},
   "outputs": [
    {
     "name": "stdout",
     "output_type": "stream",
     "text": [
      "Digite la especie del Pokemon: Pikachu\n",
      "Cuál es el nivel del Pokemon: 15\n",
      "Que tipo de Pokemon es: Eléctrico\n",
      "Cuál es el segundo tipo del Pokemon: none\n",
      "Cuanto de ataque tiene el Pokemon: 12\n",
      "Cuánta defensa tiene el Pokemon: 13\n",
      "Digite la especie del Pokemon: Charizard\n",
      "Cuál es el nivel del Pokemon: 25\n",
      "Que tipo de Pokemon es: Fuego\n",
      "Cuál es el segundo tipo del Pokemon: Volador\n",
      "Cuanto de ataque tiene el Pokemon: 25\n",
      "Cuánta defensa tiene el Pokemon: 23\n",
      "Digite la especie del Pokemon: Glaceon\n",
      "Cuál es el nivel del Pokemon: 23\n",
      "Que tipo de Pokemon es: Hielo\n",
      "Cuál es el segundo tipo del Pokemon: \n",
      "Cuanto de ataque tiene el Pokemon: 22\n",
      "Cuánta defensa tiene el Pokemon: 18\n",
      "Especie: Pikachu\n",
      "Nivel: 15\n",
      "Tipo 1: Eléctrico\n",
      "Tipo 2: none PP\n",
      "Attack: 12 PP\n",
      "Especie: Charizard\n",
      "Nivel: 25\n",
      "Tipo 1: Fuego\n",
      "Tipo 2: Volador PP\n",
      "Attack: 25 PP\n",
      "Especie: Glaceon\n",
      "Nivel: 23\n",
      "Tipo 1: Hielo\n",
      "Tipo 2:  PP\n",
      "Attack: 22 PP\n",
      "El Pokemon más fuerte es:  Charizard\n"
     ]
    }
   ],
   "source": [
    "pokedex_ejem = Pokedex() #Creamos un objeto de tipo pokedéx que esté vacío\n",
    "pokedex_ejem.poke_main() #Llamamos a la función main de la pokedex para que corra\n"
   ]
  },
  {
   "cell_type": "markdown",
   "metadata": {},
   "source": [
    "De esta forma podemos ver como es que se utiliza el paradigma de programación oritenda a objetos de la forma más sencilla posible, abriendo la posibilidad a que se pueda utilizar de forma continua en los proyectos futuros que se tengan con python. Así mismo se veran ejemplos más complicados más adelante."
   ]
  },
  {
   "cell_type": "code",
   "execution_count": null,
   "metadata": {},
   "outputs": [],
   "source": []
  }
 ],
 "metadata": {
  "kernelspec": {
   "display_name": "Python 3",
   "language": "python",
   "name": "python3"
  },
  "language_info": {
   "codemirror_mode": {
    "name": "ipython",
    "version": 3
   },
   "file_extension": ".py",
   "mimetype": "text/x-python",
   "name": "python",
   "nbconvert_exporter": "python",
   "pygments_lexer": "ipython3",
   "version": "3.8.3"
  }
 },
 "nbformat": 4,
 "nbformat_minor": 4
}
