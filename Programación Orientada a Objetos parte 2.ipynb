{
 "cells": [
  {
   "cell_type": "markdown",
   "metadata": {},
   "source": [
    "# Programación Orientada a Objetos Parte II\n",
    "## Taller Python TCU- Tropicalización de la Tecnología\n",
    "\n",
    "### Isaac Rojas Hernández\n",
    "### B76693\n",
    "\n"
   ]
  },
  {
   "cell_type": "markdown",
   "metadata": {},
   "source": [
    "Habiendo visto los conceptos del *POO* con anterioridad vamos a indagar un poco más con un ejemplo un poco más completo o complejo, donde vamos a crear un sistema de registro médico para una clínica nutricional, que al registrar a una persona automáticamente el índice de masa corporal o IMC y además clasifique a la persona dentro de una de las categorías acorde al IMC obtenido.\n",
    "\n",
    "Para ello vamos a iniciar creando la clase persona, que es en este caso el primer elemento a utilizar, donde la misma va a tener de atributos la edad, el nombre, altura, peso y categoría. Sus métodos van a ser leer sus propios datos, calcular su IMC y definir la categoría personal, como se puede apreciar en el código siguiente: \n",
    "\n",
    "\n"
   ]
  },
  {
   "cell_type": "code",
   "execution_count": 1,
   "metadata": {},
   "outputs": [],
   "source": [
    "import math as mt\n",
    "\n",
    "class Persona:\n",
    "    nombre = None\n",
    "    edad = None\n",
    "    altura = None\n",
    "    masa = None\n",
    "    Categoria = None\n",
    "\n",
    "\n",
    "    def __init__(self, nombre = None, edad = None, altura = None, peso = None, Categoria = None):\n",
    "        self.nombre = nombre\n",
    "        self.edad = 0\n",
    "        self.altura = 0\n",
    "        self.masa = 0\n",
    "        self.IMC = 0\n",
    "        self.Categoria = \"categoria\"\n",
    "\n",
    "    def leer(self):\n",
    "        try:\n",
    "            self.nombre = input(\"Ingrese el Nombre de la persona: \")\n",
    "            self.edad = int(input(\"Ingrese la edad de la persona: \"))\n",
    "            self.altura = float(input(\"Ingrese la estatura de la persona: \"))\n",
    "            self.altura = self.altura/100\n",
    "            self.masa = float(input(\"Ingrese la masa en kg de la persona: \"))\n",
    "        except:\n",
    "            print(\"El valor ingresado está incorrecto, intentelo de nuevo\")\n",
    "\n",
    "\n",
    "    def CalcularIMC(self):\n",
    "        if self.edad >= 18:\n",
    "            IMC_persona = (self.masa)/(mt.pow(self.altura, 2))\n",
    "\n",
    "            return IMC_persona\n",
    "\n",
    "        else:\n",
    "            print(\"Este programa no calcula IMC de personas con edad menor a 18!\")\n",
    "\n",
    "\n",
    "    def Categoria_Personal(self, IMC):\n",
    "        if self.edad >= 18:\n",
    "            if IMC <= 15.99:\n",
    "                self.Categoria = str(\"Delgadez severa\")\n",
    "\n",
    "            elif 16.00 <= IMC and IMC <= 16.99:\n",
    "                self.Categoria = str(\"Delgadez moderada\")\n",
    "\n",
    "\n",
    "            elif 17.00 <= IMC and IMC <= 18.49:\n",
    "                self.Categoria = str(\"Delgadez leve\")\n",
    "\n",
    "\n",
    "            elif 18.50 <= IMC and IMC <= 24.99:\n",
    "                self.Categoria = str(\"Normal\")\n",
    "\n",
    "            elif 25.00 <= IMC and IMC <= 29.99:\n",
    "                self.Categoria = str(\"Sobrepeso\")\n",
    "\n",
    "            elif 30.00 <= IMC and IMC <= 34.99:\n",
    "                self.Categoria = str(\"Obesidad leve\")\n",
    "                lista_clasif.append(clasi)\n",
    "\n",
    "            elif 35.00 <= IMC and IMC <= 39.00:\n",
    "                self.Categoria = str(\"Obesidad media\")\n",
    "                lista_clasif.append(clasi)\n",
    "\n",
    "            elif IMC >= 40.00:\n",
    "                self.Categoria = str(\"Obesidad morbida\")\n",
    "                lista_clasif.append(clasi)\n",
    "\n",
    "\n",
    "        else:\n",
    "            self.Categoria = \"No se puede mostrar\"\n",
    "\n",
    "\n",
    "    def Imprimir(self, IMC):\n",
    "        print(\"%s tiene un IMC de %d y su categoría es %s\" %(self.nombre, IMC, self.Categoria))\n"
   ]
  },
  {
   "cell_type": "markdown",
   "metadata": {},
   "source": [
    "Ahora ya que tenemos creado la clase persona, vamos a crear una clase extra para el registro, la cual su único método es registrar a las personas y sus atributos son las personas registradas. En este caso únicamente haremos 1 atributo para acortar un poco el código: \n"
   ]
  },
  {
   "cell_type": "code",
   "execution_count": 2,
   "metadata": {},
   "outputs": [],
   "source": [
    "import math as mt\n",
    "\n",
    "class Registro:\n",
    "    persona_1 = None\n",
    "    \n",
    "    def __init__(self, persona_1 = None):\n",
    "        persona_1 = persona_1\n",
    "\n",
    "    def registrar_personas(self):\n",
    "        try:\n",
    "            n = int(input(\"Digite la cantidad de personas a las que le medirá el IMC: \"))\n",
    "\n",
    "            for i in range(0, n):\n",
    "                persona_n = Persona()\n",
    "                persona_n.leer()\n",
    "                IMC_calculado = persona_n.CalcularIMC()\n",
    "                persona_n.Categoria_Personal(IMC_calculado)\n",
    "                persona_n.Imprimir(IMC_calculado)\n",
    "                self.persona_1 = persona_n\n",
    "\n",
    "        except:\n",
    "            print(\"Dato inválido, reinice el programa! \")\n"
   ]
  },
  {
   "cell_type": "markdown",
   "metadata": {},
   "source": [
    "Por último vamos a crear un main para poder observar como corre en conjunto todo el código: \n"
   ]
  },
  {
   "cell_type": "code",
   "execution_count": 3,
   "metadata": {},
   "outputs": [
    {
     "name": "stdout",
     "output_type": "stream",
     "text": [
      "Digite la cantidad de personas a las que le medirá el IMC: 1\n",
      "Ingrese el Nombre de la persona: Lucca\n",
      "Ingrese la edad de la persona: 5\n",
      "Ingrese la estatura de la persona: 120\n",
      "Ingrese la masa en kg de la persona: 30\n",
      "Este programa no calcula IMC de personas con edad menor a 18!\n",
      "Dato inválido, reinice el programa! \n"
     ]
    }
   ],
   "source": [
    "nuevo_programa = Registro()\n",
    "nuevo_programa.registrar_personas()"
   ]
  },
  {
   "cell_type": "code",
   "execution_count": 4,
   "metadata": {},
   "outputs": [
    {
     "name": "stdout",
     "output_type": "stream",
     "text": [
      "Digite la cantidad de personas a las que le medirá el IMC: 1\n",
      "Ingrese el Nombre de la persona: Gabriel\n",
      "Ingrese la edad de la persona: 20\n",
      "Ingrese la estatura de la persona: 180\n",
      "Ingrese la masa en kg de la persona: 70\n",
      "Gabriel tiene un IMC de 21 y su categoría es Normal\n"
     ]
    }
   ],
   "source": [
    "nuevo_programa = Registro()\n",
    "nuevo_programa.registrar_personas()"
   ]
  },
  {
   "cell_type": "code",
   "execution_count": null,
   "metadata": {},
   "outputs": [],
   "source": []
  }
 ],
 "metadata": {
  "kernelspec": {
   "display_name": "Python 3",
   "language": "python",
   "name": "python3"
  },
  "language_info": {
   "codemirror_mode": {
    "name": "ipython",
    "version": 3
   },
   "file_extension": ".py",
   "mimetype": "text/x-python",
   "name": "python",
   "nbconvert_exporter": "python",
   "pygments_lexer": "ipython3",
   "version": "3.8.3"
  }
 },
 "nbformat": 4,
 "nbformat_minor": 4
}
