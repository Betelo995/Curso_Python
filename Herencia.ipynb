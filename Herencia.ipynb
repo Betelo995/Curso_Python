{
 "cells": [
  {
   "cell_type": "markdown",
   "metadata": {},
   "source": [
    "# Herencia \n",
    "## Taller Python TCU- Tropicalización de la Tecnología\n",
    "### Isaac Rojas Hernández\n",
    "### B76693"
   ]
  },
  {
   "cell_type": "markdown",
   "metadata": {},
   "source": [
    "La herencia al igual que en la vida real, dentro de la programación consiste en un concepto de obtener algo (sea de índole material o no) por medio de un ancestro o antecesor. Como puede ser un ejemplo real la herencia del color de pelo, ojos, una marca de nacimiento o también una empresa, un carro, casa, terrenos etc... cuando programamos específicamente utilizando el _POO_ podemos crear clases que hereden atributos y métodos de clases mayores. \n",
    "<img src=\"https://economipedia.com/wp-content/uploads/herencia.jpg\" width = \"400\" height=\"400\"/>\n",
    "Por ejemplo, tenemos una clase _Persona_, que tiene de atributos como el nombre, apellido, sexo y número de cédula, que serían como los atributos básicos de una persona, por así decirlo. Sin embargo derivado de este pueden haber personas que en un futuro generen distintos tipos de atributos que las diferencien de una persona _base_. Por ejemplo con la elección de la carrera es algo que podría generar un tipo de persona nueva, basada en la misma profesión que ejerza después. Para explicarlo un poco mejor es necesario observar un ejemplo. \n",
    "\n",
    "\n",
    "Para ello vamos a crear por si misma la clase persona, que incluirá dentro de si misma los atributos descritos anteriomente y además de eso, su constructor y el método _\"hablar\"_."
   ]
  },
  {
   "cell_type": "code",
   "execution_count": 1,
   "metadata": {},
   "outputs": [],
   "source": [
    "class Persona:\n",
    "    cedula = None\n",
    "    nombre = None\n",
    "    apellido = None\n",
    "    sexo = None\n",
    "\n",
    "    def __init__(self, cedula, nombre, apellido, sexo): \n",
    "        self.cedula = cedula\n",
    "        self.nombre = nombre\n",
    "        self.apellido = apellido\n",
    "        self.sexo = sexo\n",
    "    \n",
    "    def hablar(self, mensaje): \n",
    "        print(mensaje)\n",
    "        return\n"
   ]
  },
  {
   "cell_type": "markdown",
   "metadata": {},
   "source": [
    "Con esta clase inicial, podríamos generar miles más que luego tengan otro tipo de atributos, pero siempre una misma base. Por ello vamos a crear una clase _Programador_, que sigue siendo una persona, pero que por cosas de la vida, tomó como su carrera ser programador y ahora tiene atributos extra dentro de su persona, que no calzan con la base _Perona_. Agregaremos 2 principales atributos que son los lenguajes de programación que conoce y el status de progrador, que usualmente se clasifica como Jr o Sr, dependiendo de los años de experiencia. Por ser un código demostrativo únicamente agregamos un método que es el `consulta_puesto(self)` que imprime en pantalla el perfil del programador. \n"
   ]
  },
  {
   "cell_type": "code",
   "execution_count": 2,
   "metadata": {},
   "outputs": [],
   "source": [
    "class Programador(Persona):\n",
    "    lenguajes = None\n",
    "    jerarquia = None\n",
    "\n",
    "    def __init__(self, cedula, nombre, apellido, sexo, lenguajes, jerarquia):\n",
    "        Persona.__init__(self, cedula, nombre, apellido, sexo)\n",
    "        self.lenguajes = lenguajes \n",
    "        self.jerarquia = jerarquia\n",
    "\n",
    "    def consulta_puesto(self): \n",
    "        print(\"Hola, mi nombre es %s y soy un programador %s, se utilizar los lenguajes de programación: \" %(self.nombre, self.jerarquia))\n",
    "        print(self.lenguajes)\n"
   ]
  },
  {
   "cell_type": "markdown",
   "metadata": {},
   "source": [
    "Hay varios puntos por explicar dentro del código visto arriba, ya que es distinto a lo visto con anterioridad. Primero es que al igual que una función, la clase ahora posee un parámetro que recibe, que en este caso sería la clase Persona como tal, para poder ser usada dentro de la misma. Por ello la clase se ve como una función de la forma `Programador(Persona)`. Además cabe destacar el constructor de la misma, ya que es importante destacar, que importamos exactamente los mismos atributos de _Persona_ y utilizamos el constructor de la clase dentro del constructor de _Programador_ para poder \"heredar\" los métodos y atributos de la clase madre. Por ello es necesario el uso de `Persona.__init__(self, cedula, nombre, apellido, sexo)`, ya que es lo que nos \"importa\" todo el contenido útil de _persona_. \n",
    "\n",
    "Una vez hecho esto, podremos tener un _Programador_ que heredó todos los atributos y métodos de la clase _Persona_, podemos probar su uso con un código muy simple como el siguiente: \n"
   ]
  },
  {
   "cell_type": "code",
   "execution_count": 4,
   "metadata": {},
   "outputs": [
    {
     "name": "stdout",
     "output_type": "stream",
     "text": [
      "Hola, soy una persona normal \n",
      "\n",
      "Hola, mi nombre es Isaac y soy un programador Jr, se utilizar los lenguajes de programación: \n",
      "['C', 'C++', 'Python']\n",
      "Yo soy un programador, entonces puedo hacer ambas ;)\n"
     ]
    }
   ],
   "source": [
    "#Creamos una persona normal e imprimimos un mensaje\n",
    "persona = Persona(402440430, \"Isaac\", \"Rojas\", \"Masculino\")\n",
    "persona.hablar(\"Hola, soy una persona normal \\n\")\n",
    "\n",
    "#Ahora creamos un programador y usamos su método consulta puesto e imprimimos un mensaje\n",
    "persona_progra = Programador(402440430, \"Isaac\", \"Rojas\", \"Masculino\", [\"C\", \"C++\", \"Python\"], \"Jr\")\n",
    "persona_progra.consulta_puesto()\n",
    "persona_progra.hablar(\"Yo soy un programador, entonces puedo hacer ambas ;)\")"
   ]
  },
  {
   "cell_type": "markdown",
   "metadata": {},
   "source": [
    "Como podemos observar según las salidas la persona normal es capaz de utilizar únicamente su función de hablar, porque no posee más atributos, pero la persona programadora, logra utilizar no solamente su atributo para describir su puesto en la empresa, sino que también puede usar la función _hablar_. Por ende el uso de las herencias puede ser de gran utilidad para poder crear códigos más versátiles. "
   ]
  },
  {
   "cell_type": "code",
   "execution_count": null,
   "metadata": {},
   "outputs": [],
   "source": []
  }
 ],
 "metadata": {
  "kernelspec": {
   "display_name": "Python 3",
   "language": "python",
   "name": "python3"
  },
  "language_info": {
   "codemirror_mode": {
    "name": "ipython",
    "version": 3
   },
   "file_extension": ".py",
   "mimetype": "text/x-python",
   "name": "python",
   "nbconvert_exporter": "python",
   "pygments_lexer": "ipython3",
   "version": "3.8.3"
  }
 },
 "nbformat": 4,
 "nbformat_minor": 4
}
