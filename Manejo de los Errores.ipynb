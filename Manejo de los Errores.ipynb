{
 "cells": [
  {
   "cell_type": "markdown",
   "metadata": {},
   "source": [
    "# Manejo de Errores\n",
    "## Taller Python TCU- Tropicalización de la tecnología\n",
    "### Isaac Rojas Hernández\n",
    "### B76693\n"
   ]
  },
  {
   "cell_type": "markdown",
   "metadata": {},
   "source": [
    "Un error dentro de un código ejecutable es un comportamiento bastante común a la hora de programar y muchas veces ocurre cuando no se da una buena delimitación del código o por un mal manejo del usuario. \n",
    "\n",
    "Cuando un código tiene un error al ser ejecutado se da una excepción donde el código muestra un \n",
    "`Traceback (most recent call last)` y además se muestra el error que el código genero al ser interpretado. El mismo interpretador toma esto para guardar un registro de lo que sucedió mal a la hora de la ejecución de un bloque de código. Un ejemplo de un código que está escrito de forma errónea y generaría un error es el siguiente: \n"
   ]
  },
  {
   "cell_type": "code",
   "execution_count": 2,
   "metadata": {},
   "outputs": [
    {
     "ename": "TypeError",
     "evalue": "can only concatenate str (not \"int\") to str",
     "output_type": "error",
     "traceback": [
      "\u001b[1;31m---------------------------------------------------------------------------\u001b[0m",
      "\u001b[1;31mTypeError\u001b[0m                                 Traceback (most recent call last)",
      "\u001b[1;32m<ipython-input-2-58f8ab9ac21c>\u001b[0m in \u001b[0;36m<module>\u001b[1;34m\u001b[0m\n\u001b[0;32m      1\u001b[0m \u001b[0mvar_one\u001b[0m \u001b[1;33m=\u001b[0m \u001b[1;34m\"1\"\u001b[0m\u001b[1;33m\u001b[0m\u001b[1;33m\u001b[0m\u001b[0m\n\u001b[0;32m      2\u001b[0m \u001b[0mvar_two\u001b[0m \u001b[1;33m=\u001b[0m \u001b[1;36m2\u001b[0m\u001b[1;33m\u001b[0m\u001b[1;33m\u001b[0m\u001b[0m\n\u001b[1;32m----> 3\u001b[1;33m \u001b[0mc\u001b[0m \u001b[1;33m=\u001b[0m \u001b[0mvar_one\u001b[0m \u001b[1;33m+\u001b[0m \u001b[0mvar_two\u001b[0m\u001b[1;33m\u001b[0m\u001b[1;33m\u001b[0m\u001b[0m\n\u001b[0m",
      "\u001b[1;31mTypeError\u001b[0m: can only concatenate str (not \"int\") to str"
     ]
    }
   ],
   "source": [
    "var_one = \"1\"\n",
    "var_two = 2\n",
    "c = var_one + var_two"
   ]
  },
  {
   "cell_type": "markdown",
   "metadata": {},
   "source": [
    "Esto debido a que son diferentes tipos de variables y por lógica de python, no se puede hacer ninguna operación entre 2 variables de distintos tipos. Muchas veces este tipo de errores y todos en general pueden ser delimitados al manejar los errores que pueda provocar el código, anticipandose a cualquier fallo. Implementar el manejo de errores dentro del código es una buena práctica a la hora de programar y debería ser indispensable utilizarla en nuestros códigos. \n",
    "\n",
    "La forma más básica de manejo de erorres conocida en python es el `try-except`, esta declaración dentro del código divide el mismo en 2 secciónes, donde inicialmente se intenta correr el código dentro del try y de haber algún fallo se iría a ejecutar el código dentro del except como en el siguiente ejemplo: \n"
   ]
  },
  {
   "cell_type": "code",
   "execution_count": 4,
   "metadata": {},
   "outputs": [
    {
     "name": "stdout",
     "output_type": "stream",
     "text": [
      "Este si se va a ejecutar en el try\n",
      "En este caso el except es el código que se ejecuta\n"
     ]
    }
   ],
   "source": [
    "try:\n",
    "    print(\"Este si se va a ejecutar en el try\")\n",
    "    \n",
    "except:\n",
    "    print(\"Por aquí el código no va a pasar\")\n",
    "    \n",
    "try:\n",
    "    Print(\"Este código está mal escrito por lo tanto no se va a ejecutar\")\n",
    "    \n",
    "except:\n",
    "    print(\"En este caso el except es el código que se ejecuta\")"
   ]
  },
  {
   "cell_type": "markdown",
   "metadata": {},
   "source": [
    "A pesar de ser la forma más básica es la que da cavida a otro tipo de manejo de errores que al final son derivados. Cabe resaltar que esta estructura dentro de un código puede ser utilizada en un código completo o únicamente dentro de un bloque específico que pueda fallar. Vamos a ver a continuación como manejar un error sencillo, con fallos por mezcla de tipos de variables. "
   ]
  },
  {
   "cell_type": "code",
   "execution_count": 6,
   "metadata": {},
   "outputs": [
    {
     "name": "stdout",
     "output_type": "stream",
     "text": [
      "Ingrese un número: 3\n"
     ]
    },
    {
     "ename": "TypeError",
     "evalue": "can only concatenate str (not \"int\") to str",
     "output_type": "error",
     "traceback": [
      "\u001b[1;31m---------------------------------------------------------------------------\u001b[0m",
      "\u001b[1;31mTypeError\u001b[0m                                 Traceback (most recent call last)",
      "\u001b[1;32m<ipython-input-6-3f27054a63ce>\u001b[0m in \u001b[0;36m<module>\u001b[1;34m\u001b[0m\n\u001b[0;32m      1\u001b[0m \u001b[0mvar\u001b[0m \u001b[1;33m=\u001b[0m \u001b[0minput\u001b[0m\u001b[1;33m(\u001b[0m\u001b[1;34m\"Ingrese un número: \"\u001b[0m\u001b[1;33m)\u001b[0m\u001b[1;33m\u001b[0m\u001b[1;33m\u001b[0m\u001b[0m\n\u001b[1;32m----> 2\u001b[1;33m \u001b[0mvar\u001b[0m \u001b[1;33m+=\u001b[0m \u001b[1;36m2\u001b[0m\u001b[1;33m\u001b[0m\u001b[1;33m\u001b[0m\u001b[0m\n\u001b[0m\u001b[0;32m      3\u001b[0m \u001b[0mprint\u001b[0m\u001b[1;33m(\u001b[0m\u001b[0mvar\u001b[0m\u001b[1;33m)\u001b[0m\u001b[1;33m\u001b[0m\u001b[1;33m\u001b[0m\u001b[0m\n",
      "\u001b[1;31mTypeError\u001b[0m: can only concatenate str (not \"int\") to str"
     ]
    }
   ],
   "source": [
    "var = input(\"Ingrese un número: \")\n",
    "var += 2\n",
    "print(var)"
   ]
  },
  {
   "cell_type": "markdown",
   "metadata": {},
   "source": [
    "En este caso como se puede apreciar aunque se ingrese un número, la función `input()` por defecto lo que le ingresan es una variable de tipo `string`, por ende cuando se realiza la suma no es posible para python hacerla, ni como concatencación de palabras, ni como operación algebraíca. Para ello hay varias formas de tratar el problema, además del `try-except` visto anteriormente como la siguiente: "
   ]
  },
  {
   "cell_type": "code",
   "execution_count": 7,
   "metadata": {},
   "outputs": [
    {
     "name": "stdout",
     "output_type": "stream",
     "text": [
      "Ingrese un número: 3\n",
      "5\n"
     ]
    }
   ],
   "source": [
    "var = int(input(\"Ingrese un número: \"))\n",
    "var += 2\n",
    "print(var)"
   ]
  },
  {
   "cell_type": "markdown",
   "metadata": {},
   "source": [
    "Sin embargo esta sobredelimitación si se ingresa un número flotante o alguno que no sea entero, igual se generaría un error dentro del código, por ende es importante que se utilice el `try-except`, porque así el código tiene más casos para poder agarrarse y correr el programa de forma correcta"
   ]
  },
  {
   "cell_type": "code",
   "execution_count": 8,
   "metadata": {},
   "outputs": [
    {
     "name": "stdout",
     "output_type": "stream",
     "text": [
      "Ingrese un número: 3\n",
      "5\n"
     ]
    }
   ],
   "source": [
    "var = input(\"Ingrese un número: \")\n",
    "try: \n",
    "    var = int(var)\n",
    "    var += 2\n",
    "    print(var)\n",
    "except: \n",
    "    var = float(var)\n",
    "    var+= 2\n",
    "    print(var)\n",
    "    "
   ]
  },
  {
   "cell_type": "markdown",
   "metadata": {},
   "source": [
    "Con este código de arriba, es posible tratar de formas distintas la variable dependiendo de la situación que se le presente así no generar un error innecesario. Entonces en caso de insertar una variable entera como lo es un $2$ o un número racional como el $4.53$, ambos funcionarían de forma correcta como se muestra a continuación: "
   ]
  },
  {
   "cell_type": "code",
   "execution_count": 9,
   "metadata": {},
   "outputs": [
    {
     "name": "stdout",
     "output_type": "stream",
     "text": [
      "Ingrese un número: 2\n",
      "4\n"
     ]
    }
   ],
   "source": [
    "var = input(\"Ingrese un número: \")\n",
    "try: \n",
    "    var = int(var)\n",
    "    var += 2\n",
    "    print(var)\n",
    "except: \n",
    "    var = float(var)\n",
    "    var+= 2\n",
    "    print(var)\n",
    "    "
   ]
  },
  {
   "cell_type": "code",
   "execution_count": 10,
   "metadata": {},
   "outputs": [
    {
     "name": "stdout",
     "output_type": "stream",
     "text": [
      "Ingrese un número: 4.53\n",
      "6.53\n"
     ]
    }
   ],
   "source": [
    "var = input(\"Ingrese un número: \")\n",
    "try: \n",
    "    var = int(var)\n",
    "    var += 2\n",
    "    print(var)\n",
    "except: \n",
    "    var = float(var)\n",
    "    var+= 2\n",
    "    print(var)\n",
    "    "
   ]
  },
  {
   "cell_type": "markdown",
   "metadata": {},
   "source": [
    "Esta demostración, puede verse como la forma más básica de los manejos de errores e inclusive solucionable de forma más sencilla con `if` y `elif`, sin embargo es una forma vistosa de poder enteder como se manejan los errores en python y poder aplicarlo a códigos más elaborados y que requieran un funcionamiento continuo como los servidores, bots (que necesiten correr 24/7) y análisis de datos.  "
   ]
  }
 ],
 "metadata": {
  "kernelspec": {
   "display_name": "Python 3",
   "language": "python",
   "name": "python3"
  },
  "language_info": {
   "codemirror_mode": {
    "name": "ipython",
    "version": 3
   },
   "file_extension": ".py",
   "mimetype": "text/x-python",
   "name": "python",
   "nbconvert_exporter": "python",
   "pygments_lexer": "ipython3",
   "version": "3.8.3"
  }
 },
 "nbformat": 4,
 "nbformat_minor": 4
}
