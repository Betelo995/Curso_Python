{
 "cells": [
  {
   "cell_type": "markdown",
   "metadata": {},
   "source": [
    "# Recursividad\n",
    "## Taller Python TCU- Tropicalización de la Tecnología\n",
    "### Isaac Rojas Hernández\n",
    "### B76693"
   ]
  },
  {
   "cell_type": "markdown",
   "metadata": {},
   "source": [
    "La recursividad es un concepto dentro de la programación, que implica la resolución de problemas basados en su propia definición, es decir es un sistema de resolución de problemas que para poder resolver un problema mayor se utiliza a sí mismo hasta descomponerse en el caso más básico que es la solución de todos los demás. Una forma muy sencilla de ver la recursividad es con las muñecas rusas: \n",
    "<img src=\"https://static3.depositphotos.com/1000707/125/i/600/depositphotos_1255904-stock-photo-russian-dolls-in-line.jpg\" width = \"300\" height=\"300\"/>\n",
    "Ellas se guardan una dentro de la otra, desde la más pequeña, la cual ya no posee hueco para almacenar nada, hasta la más grande que las guarda a todas al final. El concepto de la recursividad es bastante utilizado dentro de la programación, ya que muchas veces para poder resolver un código, necesitamos evaluar lo mismo una secuencia de veces, de forma que resulta más sencillo hacer una función, que dentro de la misma se llame a si misma para poder resolverse. \n",
    "\n",
    "A este concepto tan abstracto es al que llamamos recursividad, cuando creamos una función que tenga que **\"llamarse\"** a sí misma para poder resolver el algoritmo de forma correcta. Un ejemplo clásico que veremos hoy es el de las torres de Hanoi que podemos ver a continuación \n",
    "<img src=\"https://pymstatic.com/16796/conversions/torre-hanoi-social.jpg\" width = \"300\" height=\"300\"/>\n",
    "\n",
    "La idea de este pequeño juego es llevar la torre de un extremo al otro siguiendo 2 reglas únicamente: \n",
    "* Solo se puede mover 1 pieza a la vez. \n",
    "* No pueden colocarse piezas más grandes encima de más pequeñas.\n",
    "\n",
    "Con estas dos reglas el juego en forma programada se tiene que resolver para _N_ cantidad de discos. Por ende se definene 2 casos base, con 0 discos y con 1 disco:\n"
   ]
  },
  {
   "cell_type": "code",
   "execution_count": 1,
   "metadata": {},
   "outputs": [],
   "source": [
    "def Hanoi(n, inicial, final, auxiliar):\n",
    "    if n == 0: \n",
    "        print(\"No hay discos para mover\")\n",
    "        return\n",
    "    elif n == 1:\n",
    "        print(\"Mover el disco 1 de %s a %s\" %(inicial, final))\n",
    "        return"
   ]
  },
  {
   "cell_type": "markdown",
   "metadata": {},
   "source": [
    "Una vez hecho esto podemos decir que ya tenemos los casos más primitivos que sería donde las funciones se detendrían del todo en caso de intentar volver a utilizarse. Esto para prevenir un _loop_ infinito del que la función no pueda salir y provoquemos un mal uso del programa. Ahora debemos definir los siguientes pasos en caso de que ninguno de ellos sea el caso actual que está tratando la función. \n",
    "\n",
    "Primero debemos volver a invocar la función, pero ésta vez con los parámetros originales `Hanoi(n, inicial, final, auxiliar)` con los siguientes `Hanoi(n-1, inicial, auxiliar, final)`. De esta forma estamos corriendo el programa para el disco más abajo del original utilizando el poste auxiliar de final y el final como auxiliar. Luego debemos imprimir el movimiento que se realiza de primero, que sería mover el disco de el _n_ de esa corrida específica desde el inicial a final. \n",
    "\n"
   ]
  },
  {
   "cell_type": "code",
   "execution_count": 2,
   "metadata": {},
   "outputs": [],
   "source": [
    "def Hanoi(n, inicial, final, auxiliar):\n",
    "    if n == 0: \n",
    "        print(\"No hay discos para mover\")\n",
    "        return\n",
    "    elif n == 1:\n",
    "        print(\"Mover el disco 1 de %s a %s\" %(inicial, final))\n",
    "        return\n",
    "\n",
    "    Hanoi(n-1, inicial, auxiliar, final)\n",
    "    print(\"Mover el disco %i de %s a %s\" %(n,inicial, final))"
   ]
  },
  {
   "cell_type": "markdown",
   "metadata": {},
   "source": [
    "Por último para que nos aseguremos que el programa corra de forma correcta debemos volver a correr la función después de imprimir el paso, pero esta vez con los siguientes parámetros `Hanoi(n-1, auxiliar, final, incial)`,  de esta forma nos aseguramos de recorrer todos los discos que tiene la torre deseada y utilizamos el auxiliar como punto de partida, el final como el incial y el inicial como el final.  \n",
    "\n",
    "Con este algoritmo nos aseguramos de tener siempre los 3 pivotes con las 3 funciones, de inicial, auxiliar y final, para poder llegar a resolver el problema con la mínima cantidad de pasos, por ende la función completa se puede ver a continuación: \n"
   ]
  },
  {
   "cell_type": "code",
   "execution_count": 3,
   "metadata": {},
   "outputs": [],
   "source": [
    "def Hanoi(n, inicial, final, auxiliar):\n",
    "    if n == 0: \n",
    "        print(\"No hay discos para mover\")\n",
    "        return\n",
    "    elif n == 1:\n",
    "        print(\"Mover el disco 1 de %s a %s\" %(inicial, final))\n",
    "        return\n",
    "\n",
    "    Hanoi(n-1, inicial, auxiliar, final)\n",
    "    print(\"Mover el disco %i de %s a %s\" %(n,inicial, final))\n",
    "    Hanoi(n-1, auxiliar, final, inicial)"
   ]
  },
  {
   "cell_type": "markdown",
   "metadata": {},
   "source": [
    "Ahora podemos probar el programa para diferentes n, empecemos con $n = 1$"
   ]
  },
  {
   "cell_type": "code",
   "execution_count": 4,
   "metadata": {},
   "outputs": [
    {
     "name": "stdout",
     "output_type": "stream",
     "text": [
      "Mover el disco 1 de A a C\n"
     ]
    }
   ],
   "source": [
    "Hanoi(1, \"A\", \"C\", \"B\")"
   ]
  },
  {
   "cell_type": "markdown",
   "metadata": {},
   "source": [
    "Como es el caso trivial, el programa se detiene después de pasarlo de A a C, ahora intentemos con $n = 4$, que es un caso aún más complejo, ya que conlleva varios movimientos en forma de pivote hasta obtener el resultado. "
   ]
  },
  {
   "cell_type": "code",
   "execution_count": 5,
   "metadata": {},
   "outputs": [
    {
     "name": "stdout",
     "output_type": "stream",
     "text": [
      "Mover el disco 1 de A a B\n",
      "Mover el disco 2 de A a C\n",
      "Mover el disco 1 de B a C\n",
      "Mover el disco 3 de A a B\n",
      "Mover el disco 1 de C a A\n",
      "Mover el disco 2 de C a B\n",
      "Mover el disco 1 de A a B\n",
      "Mover el disco 4 de A a C\n",
      "Mover el disco 1 de B a C\n",
      "Mover el disco 2 de B a A\n",
      "Mover el disco 1 de C a A\n",
      "Mover el disco 3 de B a C\n",
      "Mover el disco 1 de A a B\n",
      "Mover el disco 2 de A a C\n",
      "Mover el disco 1 de B a C\n"
     ]
    }
   ],
   "source": [
    "Hanoi(4, \"A\", \"C\", \"B\")"
   ]
  },
  {
   "cell_type": "markdown",
   "metadata": {},
   "source": [
    "Para poder comprobar el resultado podemos utilizar los pasos que el programa no da en una página que tiene una torre de hanoi interactiva: http://www.uterra.com/juegos/torre_hanoi.php. Esta nos dice cual es la mínima cantidad de pasos para poder resolver la torre de $n$ discos. Como se puede apreciar en el video complementario la forma de resolución es correcta y con la mínima cantidad de pasos como es de esperarse. "
   ]
  }
 ],
 "metadata": {
  "kernelspec": {
   "display_name": "Python 3",
   "language": "python",
   "name": "python3"
  },
  "language_info": {
   "codemirror_mode": {
    "name": "ipython",
    "version": 3
   },
   "file_extension": ".py",
   "mimetype": "text/x-python",
   "name": "python",
   "nbconvert_exporter": "python",
   "pygments_lexer": "ipython3",
   "version": "3.8.3"
  }
 },
 "nbformat": 4,
 "nbformat_minor": 4
}
