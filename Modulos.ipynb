{
 "cells": [
  {
   "cell_type": "markdown",
   "metadata": {},
   "source": [
    "# Módulos\n",
    "## Taller Python TCU- Tropicalización de la Tecnología\n",
    "### Isaac Rojas Hernández\n",
    "### B76693"
   ]
  },
  {
   "cell_type": "markdown",
   "metadata": {},
   "source": [
    "La modularización a la hora de programar es un concepto bastante común en lenguajes de programación más antiguos como lo pueden ser `C++`, `Java` o `C`, esto debido a que son lenguajes compilados y por un tema general de orden a la hora de programar. Modularizar un programa implica el utilizar distintos archivos para separar elementos o bloques de código que funcionen de forma conjunta para luego utilizarlo en otros archivos diferentes. Es decir como crear pequeños bloques de lego, que al juntarlos todos cumplen una función específica para una creación que tengamos en mente.\n",
    "<img src=\"https://asian-links.com/image/articles/toys/lego-bricks.jpg\" width = \"400\" height=\"400\"/>\n",
    "Para python puede llegar a ser menos común utilizar la modularización, ya que al ser un lenguaje de programación que se interpreta linea por línea, en vez de ser compilado, muchas veces simplemente se escribe todo el script o programa deseado en un mismo archivo. Aún así, para un mayor orden y accesibilidad a la hora de programar es que podemos encontrar el concepto como tal de modular el código. \n",
    "\n",
    "Pero entonces **¿Cómo se modula el código?**, bueno pues es bastante sencillo como tal. Para ellos debemos separa bloques de código específicos que queramos usar en un programa _main_ después que utilice o junte todos estos bloques. La formas más usual de realizar esto es mediante la separación de funciones específicas, como por ejemplo al hacer una calculadora separar en 3 archivos 3 tipos de operaciones distintas como podremos apreciar a continuación: \n"
   ]
  },
  {
   "cell_type": "code",
   "execution_count": 4,
   "metadata": {},
   "outputs": [],
   "source": [
    "#Suma.py\n",
    "def suma(a,b): \n",
    "    c = a + b\n",
    "    return c "
   ]
  },
  {
   "cell_type": "code",
   "execution_count": 5,
   "metadata": {},
   "outputs": [],
   "source": [
    "#multi.py\n",
    "def multiplicacion(a, b):\n",
    "    c = a*b\n",
    "    return c\n"
   ]
  },
  {
   "cell_type": "code",
   "execution_count": 6,
   "metadata": {},
   "outputs": [],
   "source": [
    "#divi.py\n",
    "def division(a,b):\n",
    "    c = a/b\n",
    "    return c"
   ]
  },
  {
   "cell_type": "markdown",
   "metadata": {},
   "source": [
    "Como se puede apreciar en los bloques de código superiores, simulando que son archivos separados ahora podríamos proceder a utilizarlos en un archivo main para poder hacer la calculadora como tal, sin embargo se puede llevar aún más alla y hacer otro módulo que junte estas 3 funciones y realice el papel de la calculadora, sin llegar aún a un main. Como en el siguiente bloque de código: \n",
    "\n",
    "```Python\n",
    "\n",
    "#calc.py\n",
    "import multi\n",
    "import divi\n",
    "import suma\n",
    "import math\n",
    "\n",
    "\n",
    "def calc(operacion): \n",
    "    if operacion == \"division\" or operacion == \"Division\":\n",
    "        a = int(input(\"Ingrese el primer número: \"))\n",
    "        b = int(input(\"Ingrese el segundo número: \"))\n",
    "        c = divi.division(a,b)\n",
    "        return c\n",
    "    \n",
    "    elif operacion == \"suma\" or operacion == \"Suma\":\n",
    "        a = int(input(\"Ingrese el primer número: \"))\n",
    "        b = int(input(\"Ingrese el segundo número: \"))\n",
    "        c = suma.suma(a,b)\n",
    "        return c\n",
    "    elif operacion == \"multiplicacion\" or operacion == \"Multiplicacion\":\n",
    "        a = int(input(\"Ingrese el primer número: \"))\n",
    "        b = int(input(\"Ingrese el segundo número: \"))\n",
    "        c = multi.multiplicacion(a,b)\n",
    "        return c\n",
    "```\n",
    "\n",
    "Al igual que con las librerias, para poder aplicar la modularidad es necesario utilizar el comando `import nombre_del_archivo` para poder traer al archivo actual el contenido que posee cada módulo específico. Una vez importado el módulo, es posible utilizar lo que sea que tenga adentro, pueden ser clases o funciones, siempre y cuando se respete la sintaxis pre-establecida y los parámetros dados por cada una. Continuando con el ejemplo solamente es necesario crear un main que utilice los recursos de 1 único archivo, ya que los otros 3 están a su vez siendo utilizados dentro de este. \n",
    "```Python\n",
    "#main.py\n",
    "import calc\n",
    "oper = input(\"Ingrese la operación que desea: \")\n",
    "resultado = calc.calc(oper)\n",
    "print(resultado)\n",
    "\n",
    "```\n",
    "Con esto realizado podemos ver que el código principal quedó bastante sencillo, alcanzando una longitud de 4 líneas únicamente. Además de verse más compacto todo, es más sencillo depurar el código en caso de encontrar algún error específico, ya que todo está separado por partes que realizan una acción concreta y específica, diferente al resto de partes. El uso de este tipo de métodos se conoce como buenas prácticas a la hora de programar, ya que crea un código que no solo es fácil de entender para su escritor, sino para cualquier tercero que quiera reutilizarlo o simplemente realizar una análisis del mismo\n",
    "\n"
   ]
  }
 ],
 "metadata": {
  "kernelspec": {
   "display_name": "Python 3",
   "language": "python",
   "name": "python3"
  },
  "language_info": {
   "codemirror_mode": {
    "name": "ipython",
    "version": 3
   },
   "file_extension": ".py",
   "mimetype": "text/x-python",
   "name": "python",
   "nbconvert_exporter": "python",
   "pygments_lexer": "ipython3",
   "version": "3.8.3"
  }
 },
 "nbformat": 4,
 "nbformat_minor": 4
}
